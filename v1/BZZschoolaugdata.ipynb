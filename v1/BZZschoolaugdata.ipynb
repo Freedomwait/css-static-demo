{
  "cells": [
    {
      "cell_type": "markdown",
      "metadata": {
        "id": "view-in-github",
        "colab_type": "text"
      },
      "source": [
        "<a href=\"https://colab.research.google.com/github/Freedomwait/css-static-demo/blob/main/v1/BZZschoolaugdata.ipynb\" target=\"_parent\"><img src=\"https://colab.research.google.com/assets/colab-badge.svg\" alt=\"Open In Colab\"/></a>"
      ]
    },
    {
      "cell_type": "code",
      "execution_count": 108,
      "metadata": {
        "id": "r5DuNaUE4G--"
      },
      "outputs": [],
      "source": [
        "import pandas as pd\n",
        "import numpy as np\n",
        "import re\n",
        "import matplotlib.pyplot as plt"
      ]
    },
    {
      "cell_type": "markdown",
      "metadata": {
        "id": "WF-2irAh4G_C"
      },
      "source": [
        "# 原始bzz数据-> db2字段dataframe"
      ]
    },
    {
      "cell_type": "code",
      "execution_count": 109,
      "metadata": {
        "id": "EeVaWTpT4G_D"
      },
      "outputs": [],
      "source": [
        "beijingschools = pd.read_excel('bzz_beijing_university.xlsx')\n",
        "sichuanschools = pd.read_excel('bzz_sichuan.xlsx').iloc[1:,]\n",
        "hubeischools = pd.read_excel('bzz_hubei_beijing.xlsx')"
      ]
    },
    {
      "cell_type": "code",
      "execution_count": 110,
      "metadata": {
        "id": "N7pT7UMQ4G_E"
      },
      "outputs": [],
      "source": [
        "lsdf = [beijingschools,sichuanschools,hubeischools]\n",
        "for i in range(len(lsdf)):\n",
        "    lsdf[i].columns = lsdf[i].iloc[0]\n",
        "    lsdf[i] = lsdf[i].iloc[1:,:]\n",
        "    lsdf[i] = lsdf[i].drop_duplicates()"
      ]
    },
    {
      "cell_type": "code",
      "execution_count": 111,
      "metadata": {
        "id": "ZRU_6Knk4G_E"
      },
      "outputs": [],
      "source": [
        "dfaugschooldata = pd.concat(lsdf, ignore_index=True).reset_index()"
      ]
    },
    {
      "cell_type": "code",
      "execution_count": 112,
      "metadata": {
        "id": "o9sytZ684G_F"
      },
      "outputs": [],
      "source": [
        "colsselected = ['标题','省份','城市', '区县', '发布时间', '项目编号', '招采单位','招采联系人/号码(公告)', '招采联系号码(企查查)','中标单位', '中标金额', '中标候选单位', '中标联系人/号码(公告)','中标联系号码(企查查)', '原文链接']"
      ]
    },
    {
      "cell_type": "code",
      "execution_count": 113,
      "metadata": {
        "id": "-BWHnWa34G_F"
      },
      "outputs": [],
      "source": [
        "df = dfaugschooldata.copy()\n",
        "df = df[colsselected]\n",
        "df.columns = ['project_name','province_b','county_b','district_b','winning_date','project_id','buyer_name','buyer_contact/phone','buyer_phone(qichacha)','supplier_name','winning_amt','candidates','supplier_contact/phone','supplier_phone(qichacha)','winning_notice_url']"
      ]
    },
    {
      "cell_type": "markdown",
      "metadata": {
        "id": "mm-GmmfZ4G_G"
      },
      "source": [
        "# Explode to Order Level"
      ]
    },
    {
      "cell_type": "code",
      "execution_count": 114,
      "metadata": {
        "id": "4c1jTAOm4G_G"
      },
      "outputs": [],
      "source": [
        "df['needtoexplode'] = df['supplier_name'].fillna(\"\").apply(lambda x: 1 if '\\n' in x else 0)"
      ]
    },
    {
      "cell_type": "code",
      "execution_count": 115,
      "metadata": {
        "id": "_bs4t4f14G_G"
      },
      "outputs": [],
      "source": [
        "df['index'] = range(df.shape[0])"
      ]
    },
    {
      "cell_type": "code",
      "execution_count": 116,
      "metadata": {
        "id": "eVXQcM9q4G_H"
      },
      "outputs": [],
      "source": [
        "dfexplode = df[df['needtoexplode'] == 1][['index','supplier_name','winning_amt']]\n",
        "dfntexplode1 = df[df['needtoexplode'] != 1][['index','supplier_name','winning_amt']]"
      ]
    },
    {
      "cell_type": "code",
      "execution_count": 117,
      "metadata": {
        "id": "DCOzXgeL4G_H"
      },
      "outputs": [],
      "source": [
        "groupby_cols = df.columns.tolist()\n",
        "# remove project_order level columns\n",
        "order_lvl_cols = ['supplier_name', 'winning_amt']\n",
        "for c in order_lvl_cols:\n",
        "    groupby_cols.remove(c)"
      ]
    },
    {
      "cell_type": "code",
      "execution_count": 118,
      "metadata": {
        "id": "JeQ7xcau4G_I"
      },
      "outputs": [],
      "source": [
        "dfexplode1 = dfexplode.set_index('index').apply(lambda x: x.str.split(',\\n').explode()).reset_index()\n",
        "dforderlvl = pd.concat([dfexplode1,dfntexplode1])\n",
        "df = dforderlvl.merge(df[groupby_cols],on='index',how='left')[['project_name','province_b','county_b','district_b','winning_date','project_id','buyer_name','buyer_contact/phone','buyer_phone(qichacha)','supplier_name','winning_amt','candidates','supplier_contact/phone','supplier_phone(qichacha)','winning_notice_url']]"
      ]
    },
    {
      "cell_type": "markdown",
      "metadata": {
        "id": "9gN53a0h4G_I"
      },
      "source": [
        "# Clean Order Level BZZ Data"
      ]
    },
    {
      "cell_type": "code",
      "execution_count": 119,
      "metadata": {
        "id": "agr1YABU4G_I"
      },
      "outputs": [],
      "source": [
        "df['buyer_contact/phone'] = df['buyer_contact/phone'].fillna('/')\n",
        "df['buyer_contact'] = df['buyer_contact/phone'].apply(lambda x: x.split('/')[0])\n",
        "df['buyer_phone'] = df['buyer_contact/phone'].apply(lambda x: x.split('/')[1])"
      ]
    },
    {
      "cell_type": "code",
      "execution_count": 120,
      "metadata": {
        "id": "al6Y1hyV4G_J"
      },
      "outputs": [],
      "source": [
        "df['supplier_contact/phone'] = df['supplier_contact/phone'].fillna('/')\n",
        "df['supplier_contact'] = df['supplier_contact/phone'].apply(lambda x: x.split('/')[0])\n",
        "df['supplier_phone'] = df['supplier_contact/phone'].apply(lambda x: x.split('/')[1])\n",
        "df['supplier_contact'] = np.where((df['supplier_contact'] == '未公示')|(df['supplier_contact'] == ''), \n",
        "                                            np.nan, \n",
        "                                            df['supplier_contact'])"
      ]
    },
    {
      "cell_type": "code",
      "execution_count": 121,
      "metadata": {
        "id": "l0w-uE9U4G_J"
      },
      "outputs": [],
      "source": [
        "col_inddex_loc = df.columns.tolist().index('winning_amt')"
      ]
    },
    {
      "cell_type": "code",
      "execution_count": 122,
      "metadata": {
        "id": "2hymQ4Pu4G_J"
      },
      "outputs": [],
      "source": [
        "# clean winning amt\n",
        "df['winning_amt'] = df['winning_amt'].fillna('')\n",
        "index_loc = df.columns.tolist().index('winning_amt')\n",
        "\n",
        "for i in range(df.shape[0]):\n",
        "        cur_win_amt = df.iloc[i, index_loc]\n",
        "\n",
        "        if cur_win_amt == '未公示' or cur_win_amt == '':\n",
        "                df.iloc[i, index_loc] = np.nan\n",
        "        elif '万' in cur_win_amt:\n",
        "                df.iloc[i, index_loc] = float(re.sub('[^\\d\\.]', \"\", cur_win_amt))*10000\n",
        "        else:\n",
        "                if re.sub('[^\\d\\.]', \"\", cur_win_amt) != '':\n",
        "                        df.iloc[i, index_loc] = float()\n",
        "                else:\n",
        "                        df.iloc[i, index_loc] = np.nan"
      ]
    },
    {
      "cell_type": "code",
      "execution_count": 123,
      "metadata": {
        "id": "nKrboY5F4G_J"
      },
      "outputs": [],
      "source": [
        "df['winning_amt'] = df['winning_amt'].astype(float)"
      ]
    },
    {
      "cell_type": "code",
      "execution_count": 124,
      "metadata": {
        "id": "IbifqnQD4G_K"
      },
      "outputs": [],
      "source": [
        "df.rename({'buyer_contact/phone': 'buyer_contact_phone', \n",
        "                    'buyer_phone(qichacha)': 'buyer_phone_qcc', \n",
        "                    'supplier_phone(qichacha)': 'supplier_phone_qcc', \n",
        "                    'supplier_contact/phone': 'supplier_contact_phone'}, \n",
        "                    axis = 'columns', inplace = True)"
      ]
    },
    {
      "cell_type": "code",
      "execution_count": 125,
      "metadata": {
        "id": "7VomR1tf4G_K",
        "outputId": "8c0c527f-961e-4f6d-d8db-f785976d23e5",
        "colab": {
          "base_uri": "https://localhost:8080/"
        }
      },
      "outputs": [
        {
          "output_type": "stream",
          "name": "stdout",
          "text": [
            "Looking in indexes: https://pypi.org/simple, https://us-python.pkg.dev/colab-wheels/public/simple/\n",
            "Requirement already satisfied: duckdb in /usr/local/lib/python3.8/dist-packages (0.6.1)\n",
            "Requirement already satisfied: numpy>=1.14 in /usr/local/lib/python3.8/dist-packages (from duckdb) (1.21.6)\n"
          ]
        }
      ],
      "source": [
        "!pip install duckdb\n",
        "import duckdb"
      ]
    },
    {
      "cell_type": "code",
      "execution_count": 126,
      "metadata": {
        "id": "AsTCf1Io4G_K"
      },
      "outputs": [],
      "source": [
        "dfaugfinaldata = duckdb.query(\"SELECT project_id \\\n",
        ", project_name \\\n",
        ", province_b as province \\\n",
        ", county_b as county \\\n",
        ", district_b as district \\\n",
        ", winning_date \\\n",
        ", winning_notice_url \\\n",
        ", buyer_name \\\n",
        ", buyer_contact \\\n",
        ", coalesce(buyer_phone, buyer_phone_qcc) as buyer_phone \\\n",
        ", winning_amt \\\n",
        ", supplier_name \\\n",
        ", supplier_contact \\\n",
        ", coalesce(supplier_phone, supplier_phone_qcc) as supplier_phone from df\").to_df()"
      ]
    },
    {
      "cell_type": "code",
      "execution_count": 127,
      "metadata": {
        "id": "0ENNrKP94G_K",
        "outputId": "e558c84a-5fc4-4078-f6d0-59b37a3f0e2d",
        "colab": {
          "base_uri": "https://localhost:8080/",
          "height": 1000
        }
      },
      "outputs": [
        {
          "output_type": "execute_result",
          "data": {
            "text/plain": [
              "                     project_id                          project_name  \\\n",
              "0               OITC-G220311197  北京大学第一教学楼智慧教室改造招标采购项目(第2、第3、第4包）中标公告   \n",
              "1               OITC-G220311197  北京大学第一教学楼智慧教室改造招标采购项目(第2、第3、第4包）中标公告   \n",
              "2               OITC-G220311197  北京大学第一教学楼智慧教室改造招标采购项目(第2、第3、第4包）中标公告   \n",
              "3                BMCC-ZC22-0711                  北京大学智慧校园基础设施建设项目中标公告   \n",
              "4                BMCC-ZC22-0711                  北京大学智慧校园基础设施建设项目中标公告   \n",
              "..                          ...                                   ...   \n",
              "298            2207-HXTC-IN1213              北京交通大学环境实验室安全和平台基础建设中标公告   \n",
              "299              BMCC-ZC22-0568          北京交通大学雄安校区智慧校园专项规划咨询服务项目中标公告   \n",
              "300                JSJL2022-050                北京交通大学（威海）智慧校园建设项目中标公示   \n",
              "301                         NaN             北京工业大学校本部西区给水管网监测系统改造中标公告   \n",
              "302  11000022210200002007-XM001              北京工业大学能源监控平台系统维护服务项目中标公告   \n",
              "\n",
              "    province county district winning_date  \\\n",
              "0        北京市    北京市      海淀区   2022-07-19   \n",
              "1        北京市    北京市      海淀区   2022-07-19   \n",
              "2        北京市    北京市      海淀区   2022-07-19   \n",
              "3        北京市    北京市      海淀区   2022-12-18   \n",
              "4        北京市    北京市      海淀区   2022-12-18   \n",
              "..       ...    ...      ...          ...   \n",
              "298      北京市    北京市      海淀区   2022-09-01   \n",
              "299      北京市    北京市      海淀区   2022-12-07   \n",
              "300      山东省    威海市      文登区   2022-08-23   \n",
              "301      北京市    北京市      朝阳区   2022-04-07   \n",
              "302      北京市    北京市      朝阳区   2022-03-21   \n",
              "\n",
              "                                    winning_notice_url buyer_name  \\\n",
              "0    http://www.ccgp.gov.cn/cggg/zygg/zbgg/202207/t...       北京大学   \n",
              "1    http://www.ccgp.gov.cn/cggg/zygg/zbgg/202207/t...       北京大学   \n",
              "2    http://www.ccgp.gov.cn/cggg/zygg/zbgg/202207/t...       北京大学   \n",
              "3    http://www.ccgp.gov.cn/cggg/zygg/zbgg/202212/t...       北京大学   \n",
              "4    http://www.ccgp.gov.cn/cggg/zygg/zbgg/202212/t...       北京大学   \n",
              "..                                                 ...        ...   \n",
              "298  http://www.ccgp.gov.cn/cggg/zygg/zbgg/202209/t...     北京交通大学   \n",
              "299  http://www.ccgp.gov.cn/cggg/dfgg/zbgg/202212/t...     北京交通大学   \n",
              "300  https://bulletin.cebpubservice.com/resultBulle...     北京交通大学   \n",
              "301  http://www.ccgp.gov.cn/cggg/dfgg/zbgg/202204/t...     北京工业大学   \n",
              "302  http://www.ccgp.gov.cn/cggg/dfgg/zbgg/202203/t...     北京工业大学   \n",
              "\n",
              "    buyer_contact   buyer_phone  winning_amt     supplier_name  \\\n",
              "0             吴老师  010-62758587   3571680.00    北京竹远科创科技股份有限公司   \n",
              "1             吴老师  010-62758587   1862991.00     北京市博汇科技股份有限公司   \n",
              "2             吴老师  010-62758587   1824667.00      北京伟森盛业家具有限公司   \n",
              "3             吴老师  010-62758587  10080000.00  中泰博瑞（北京）机电工程有限公司   \n",
              "4             吴老师  010-62758587   5248576.00      北京神州新桥科技有限公司   \n",
              "..            ...           ...          ...               ...   \n",
              "298           侯老师  010-51683701    753900.00      北京华煜八方科技有限公司   \n",
              "299          皇甫老师  010-51684375   1729800.00     中国建筑科学研究院有限公司   \n",
              "300           谢老师   18063106657   9378576.00      青岛天高智慧科技有限公司   \n",
              "301                               1066407.46    禹王（北京）科技工程有限公司   \n",
              "302           崔东阁  010-67391981   1468300.00        北京捷慧科技有限公司   \n",
              "\n",
              "     supplier_contact supplier_phone  \n",
              "0                 NaN                 \n",
              "1                 NaN                 \n",
              "2                 NaN                 \n",
              "3                 NaN                 \n",
              "4                 NaN                 \n",
              "..                ...            ...  \n",
              "298               NaN                 \n",
              "299               NaN                 \n",
              "300               NaN                 \n",
              "301               NaN                 \n",
              "302               NaN                 \n",
              "\n",
              "[303 rows x 14 columns]"
            ],
            "text/html": [
              "\n",
              "  <div id=\"df-0213e24f-5f84-4c69-a1dc-eee5d01a84f3\">\n",
              "    <div class=\"colab-df-container\">\n",
              "      <div>\n",
              "<style scoped>\n",
              "    .dataframe tbody tr th:only-of-type {\n",
              "        vertical-align: middle;\n",
              "    }\n",
              "\n",
              "    .dataframe tbody tr th {\n",
              "        vertical-align: top;\n",
              "    }\n",
              "\n",
              "    .dataframe thead th {\n",
              "        text-align: right;\n",
              "    }\n",
              "</style>\n",
              "<table border=\"1\" class=\"dataframe\">\n",
              "  <thead>\n",
              "    <tr style=\"text-align: right;\">\n",
              "      <th></th>\n",
              "      <th>project_id</th>\n",
              "      <th>project_name</th>\n",
              "      <th>province</th>\n",
              "      <th>county</th>\n",
              "      <th>district</th>\n",
              "      <th>winning_date</th>\n",
              "      <th>winning_notice_url</th>\n",
              "      <th>buyer_name</th>\n",
              "      <th>buyer_contact</th>\n",
              "      <th>buyer_phone</th>\n",
              "      <th>winning_amt</th>\n",
              "      <th>supplier_name</th>\n",
              "      <th>supplier_contact</th>\n",
              "      <th>supplier_phone</th>\n",
              "    </tr>\n",
              "  </thead>\n",
              "  <tbody>\n",
              "    <tr>\n",
              "      <th>0</th>\n",
              "      <td>OITC-G220311197</td>\n",
              "      <td>北京大学第一教学楼智慧教室改造招标采购项目(第2、第3、第4包）中标公告</td>\n",
              "      <td>北京市</td>\n",
              "      <td>北京市</td>\n",
              "      <td>海淀区</td>\n",
              "      <td>2022-07-19</td>\n",
              "      <td>http://www.ccgp.gov.cn/cggg/zygg/zbgg/202207/t...</td>\n",
              "      <td>北京大学</td>\n",
              "      <td>吴老师</td>\n",
              "      <td>010-62758587</td>\n",
              "      <td>3571680.00</td>\n",
              "      <td>北京竹远科创科技股份有限公司</td>\n",
              "      <td>NaN</td>\n",
              "      <td></td>\n",
              "    </tr>\n",
              "    <tr>\n",
              "      <th>1</th>\n",
              "      <td>OITC-G220311197</td>\n",
              "      <td>北京大学第一教学楼智慧教室改造招标采购项目(第2、第3、第4包）中标公告</td>\n",
              "      <td>北京市</td>\n",
              "      <td>北京市</td>\n",
              "      <td>海淀区</td>\n",
              "      <td>2022-07-19</td>\n",
              "      <td>http://www.ccgp.gov.cn/cggg/zygg/zbgg/202207/t...</td>\n",
              "      <td>北京大学</td>\n",
              "      <td>吴老师</td>\n",
              "      <td>010-62758587</td>\n",
              "      <td>1862991.00</td>\n",
              "      <td>北京市博汇科技股份有限公司</td>\n",
              "      <td>NaN</td>\n",
              "      <td></td>\n",
              "    </tr>\n",
              "    <tr>\n",
              "      <th>2</th>\n",
              "      <td>OITC-G220311197</td>\n",
              "      <td>北京大学第一教学楼智慧教室改造招标采购项目(第2、第3、第4包）中标公告</td>\n",
              "      <td>北京市</td>\n",
              "      <td>北京市</td>\n",
              "      <td>海淀区</td>\n",
              "      <td>2022-07-19</td>\n",
              "      <td>http://www.ccgp.gov.cn/cggg/zygg/zbgg/202207/t...</td>\n",
              "      <td>北京大学</td>\n",
              "      <td>吴老师</td>\n",
              "      <td>010-62758587</td>\n",
              "      <td>1824667.00</td>\n",
              "      <td>北京伟森盛业家具有限公司</td>\n",
              "      <td>NaN</td>\n",
              "      <td></td>\n",
              "    </tr>\n",
              "    <tr>\n",
              "      <th>3</th>\n",
              "      <td>BMCC-ZC22-0711</td>\n",
              "      <td>北京大学智慧校园基础设施建设项目中标公告</td>\n",
              "      <td>北京市</td>\n",
              "      <td>北京市</td>\n",
              "      <td>海淀区</td>\n",
              "      <td>2022-12-18</td>\n",
              "      <td>http://www.ccgp.gov.cn/cggg/zygg/zbgg/202212/t...</td>\n",
              "      <td>北京大学</td>\n",
              "      <td>吴老师</td>\n",
              "      <td>010-62758587</td>\n",
              "      <td>10080000.00</td>\n",
              "      <td>中泰博瑞（北京）机电工程有限公司</td>\n",
              "      <td>NaN</td>\n",
              "      <td></td>\n",
              "    </tr>\n",
              "    <tr>\n",
              "      <th>4</th>\n",
              "      <td>BMCC-ZC22-0711</td>\n",
              "      <td>北京大学智慧校园基础设施建设项目中标公告</td>\n",
              "      <td>北京市</td>\n",
              "      <td>北京市</td>\n",
              "      <td>海淀区</td>\n",
              "      <td>2022-12-18</td>\n",
              "      <td>http://www.ccgp.gov.cn/cggg/zygg/zbgg/202212/t...</td>\n",
              "      <td>北京大学</td>\n",
              "      <td>吴老师</td>\n",
              "      <td>010-62758587</td>\n",
              "      <td>5248576.00</td>\n",
              "      <td>北京神州新桥科技有限公司</td>\n",
              "      <td>NaN</td>\n",
              "      <td></td>\n",
              "    </tr>\n",
              "    <tr>\n",
              "      <th>...</th>\n",
              "      <td>...</td>\n",
              "      <td>...</td>\n",
              "      <td>...</td>\n",
              "      <td>...</td>\n",
              "      <td>...</td>\n",
              "      <td>...</td>\n",
              "      <td>...</td>\n",
              "      <td>...</td>\n",
              "      <td>...</td>\n",
              "      <td>...</td>\n",
              "      <td>...</td>\n",
              "      <td>...</td>\n",
              "      <td>...</td>\n",
              "      <td>...</td>\n",
              "    </tr>\n",
              "    <tr>\n",
              "      <th>298</th>\n",
              "      <td>2207-HXTC-IN1213</td>\n",
              "      <td>北京交通大学环境实验室安全和平台基础建设中标公告</td>\n",
              "      <td>北京市</td>\n",
              "      <td>北京市</td>\n",
              "      <td>海淀区</td>\n",
              "      <td>2022-09-01</td>\n",
              "      <td>http://www.ccgp.gov.cn/cggg/zygg/zbgg/202209/t...</td>\n",
              "      <td>北京交通大学</td>\n",
              "      <td>侯老师</td>\n",
              "      <td>010-51683701</td>\n",
              "      <td>753900.00</td>\n",
              "      <td>北京华煜八方科技有限公司</td>\n",
              "      <td>NaN</td>\n",
              "      <td></td>\n",
              "    </tr>\n",
              "    <tr>\n",
              "      <th>299</th>\n",
              "      <td>BMCC-ZC22-0568</td>\n",
              "      <td>北京交通大学雄安校区智慧校园专项规划咨询服务项目中标公告</td>\n",
              "      <td>北京市</td>\n",
              "      <td>北京市</td>\n",
              "      <td>海淀区</td>\n",
              "      <td>2022-12-07</td>\n",
              "      <td>http://www.ccgp.gov.cn/cggg/dfgg/zbgg/202212/t...</td>\n",
              "      <td>北京交通大学</td>\n",
              "      <td>皇甫老师</td>\n",
              "      <td>010-51684375</td>\n",
              "      <td>1729800.00</td>\n",
              "      <td>中国建筑科学研究院有限公司</td>\n",
              "      <td>NaN</td>\n",
              "      <td></td>\n",
              "    </tr>\n",
              "    <tr>\n",
              "      <th>300</th>\n",
              "      <td>JSJL2022-050</td>\n",
              "      <td>北京交通大学（威海）智慧校园建设项目中标公示</td>\n",
              "      <td>山东省</td>\n",
              "      <td>威海市</td>\n",
              "      <td>文登区</td>\n",
              "      <td>2022-08-23</td>\n",
              "      <td>https://bulletin.cebpubservice.com/resultBulle...</td>\n",
              "      <td>北京交通大学</td>\n",
              "      <td>谢老师</td>\n",
              "      <td>18063106657</td>\n",
              "      <td>9378576.00</td>\n",
              "      <td>青岛天高智慧科技有限公司</td>\n",
              "      <td>NaN</td>\n",
              "      <td></td>\n",
              "    </tr>\n",
              "    <tr>\n",
              "      <th>301</th>\n",
              "      <td>NaN</td>\n",
              "      <td>北京工业大学校本部西区给水管网监测系统改造中标公告</td>\n",
              "      <td>北京市</td>\n",
              "      <td>北京市</td>\n",
              "      <td>朝阳区</td>\n",
              "      <td>2022-04-07</td>\n",
              "      <td>http://www.ccgp.gov.cn/cggg/dfgg/zbgg/202204/t...</td>\n",
              "      <td>北京工业大学</td>\n",
              "      <td></td>\n",
              "      <td></td>\n",
              "      <td>1066407.46</td>\n",
              "      <td>禹王（北京）科技工程有限公司</td>\n",
              "      <td>NaN</td>\n",
              "      <td></td>\n",
              "    </tr>\n",
              "    <tr>\n",
              "      <th>302</th>\n",
              "      <td>11000022210200002007-XM001</td>\n",
              "      <td>北京工业大学能源监控平台系统维护服务项目中标公告</td>\n",
              "      <td>北京市</td>\n",
              "      <td>北京市</td>\n",
              "      <td>朝阳区</td>\n",
              "      <td>2022-03-21</td>\n",
              "      <td>http://www.ccgp.gov.cn/cggg/dfgg/zbgg/202203/t...</td>\n",
              "      <td>北京工业大学</td>\n",
              "      <td>崔东阁</td>\n",
              "      <td>010-67391981</td>\n",
              "      <td>1468300.00</td>\n",
              "      <td>北京捷慧科技有限公司</td>\n",
              "      <td>NaN</td>\n",
              "      <td></td>\n",
              "    </tr>\n",
              "  </tbody>\n",
              "</table>\n",
              "<p>303 rows × 14 columns</p>\n",
              "</div>\n",
              "      <button class=\"colab-df-convert\" onclick=\"convertToInteractive('df-0213e24f-5f84-4c69-a1dc-eee5d01a84f3')\"\n",
              "              title=\"Convert this dataframe to an interactive table.\"\n",
              "              style=\"display:none;\">\n",
              "        \n",
              "  <svg xmlns=\"http://www.w3.org/2000/svg\" height=\"24px\"viewBox=\"0 0 24 24\"\n",
              "       width=\"24px\">\n",
              "    <path d=\"M0 0h24v24H0V0z\" fill=\"none\"/>\n",
              "    <path d=\"M18.56 5.44l.94 2.06.94-2.06 2.06-.94-2.06-.94-.94-2.06-.94 2.06-2.06.94zm-11 1L8.5 8.5l.94-2.06 2.06-.94-2.06-.94L8.5 2.5l-.94 2.06-2.06.94zm10 10l.94 2.06.94-2.06 2.06-.94-2.06-.94-.94-2.06-.94 2.06-2.06.94z\"/><path d=\"M17.41 7.96l-1.37-1.37c-.4-.4-.92-.59-1.43-.59-.52 0-1.04.2-1.43.59L10.3 9.45l-7.72 7.72c-.78.78-.78 2.05 0 2.83L4 21.41c.39.39.9.59 1.41.59.51 0 1.02-.2 1.41-.59l7.78-7.78 2.81-2.81c.8-.78.8-2.07 0-2.86zM5.41 20L4 18.59l7.72-7.72 1.47 1.35L5.41 20z\"/>\n",
              "  </svg>\n",
              "      </button>\n",
              "      \n",
              "  <style>\n",
              "    .colab-df-container {\n",
              "      display:flex;\n",
              "      flex-wrap:wrap;\n",
              "      gap: 12px;\n",
              "    }\n",
              "\n",
              "    .colab-df-convert {\n",
              "      background-color: #E8F0FE;\n",
              "      border: none;\n",
              "      border-radius: 50%;\n",
              "      cursor: pointer;\n",
              "      display: none;\n",
              "      fill: #1967D2;\n",
              "      height: 32px;\n",
              "      padding: 0 0 0 0;\n",
              "      width: 32px;\n",
              "    }\n",
              "\n",
              "    .colab-df-convert:hover {\n",
              "      background-color: #E2EBFA;\n",
              "      box-shadow: 0px 1px 2px rgba(60, 64, 67, 0.3), 0px 1px 3px 1px rgba(60, 64, 67, 0.15);\n",
              "      fill: #174EA6;\n",
              "    }\n",
              "\n",
              "    [theme=dark] .colab-df-convert {\n",
              "      background-color: #3B4455;\n",
              "      fill: #D2E3FC;\n",
              "    }\n",
              "\n",
              "    [theme=dark] .colab-df-convert:hover {\n",
              "      background-color: #434B5C;\n",
              "      box-shadow: 0px 1px 3px 1px rgba(0, 0, 0, 0.15);\n",
              "      filter: drop-shadow(0px 1px 2px rgba(0, 0, 0, 0.3));\n",
              "      fill: #FFFFFF;\n",
              "    }\n",
              "  </style>\n",
              "\n",
              "      <script>\n",
              "        const buttonEl =\n",
              "          document.querySelector('#df-0213e24f-5f84-4c69-a1dc-eee5d01a84f3 button.colab-df-convert');\n",
              "        buttonEl.style.display =\n",
              "          google.colab.kernel.accessAllowed ? 'block' : 'none';\n",
              "\n",
              "        async function convertToInteractive(key) {\n",
              "          const element = document.querySelector('#df-0213e24f-5f84-4c69-a1dc-eee5d01a84f3');\n",
              "          const dataTable =\n",
              "            await google.colab.kernel.invokeFunction('convertToInteractive',\n",
              "                                                     [key], {});\n",
              "          if (!dataTable) return;\n",
              "\n",
              "          const docLinkHtml = 'Like what you see? Visit the ' +\n",
              "            '<a target=\"_blank\" href=https://colab.research.google.com/notebooks/data_table.ipynb>data table notebook</a>'\n",
              "            + ' to learn more about interactive tables.';\n",
              "          element.innerHTML = '';\n",
              "          dataTable['output_type'] = 'display_data';\n",
              "          await google.colab.output.renderOutput(dataTable, element);\n",
              "          const docLink = document.createElement('div');\n",
              "          docLink.innerHTML = docLinkHtml;\n",
              "          element.appendChild(docLink);\n",
              "        }\n",
              "      </script>\n",
              "    </div>\n",
              "  </div>\n",
              "  "
            ]
          },
          "metadata": {},
          "execution_count": 127
        }
      ],
      "source": [
        "dfaugfinaldata"
      ]
    },
    {
      "cell_type": "code",
      "execution_count": 128,
      "metadata": {
        "id": "YZIIgNfh4G_L"
      },
      "outputs": [],
      "source": [
        "dfaugfinaldata = dfaugfinaldata.drop_duplicates(subset=['project_name','supplier_name'])"
      ]
    },
    {
      "cell_type": "code",
      "execution_count": 129,
      "metadata": {
        "id": "t3B0M-7P4G_L",
        "outputId": "3c3de224-c598-4c52-a7ae-dcfaa8f05750",
        "colab": {
          "base_uri": "https://localhost:8080/"
        }
      },
      "outputs": [
        {
          "output_type": "stream",
          "name": "stderr",
          "text": [
            "<ipython-input-129-1a956e2cf89b>:1: SettingWithCopyWarning: \n",
            "A value is trying to be set on a copy of a slice from a DataFrame.\n",
            "Try using .loc[row_indexer,col_indexer] = value instead\n",
            "\n",
            "See the caveats in the documentation: https://pandas.pydata.org/pandas-docs/stable/user_guide/indexing.html#returning-a-view-versus-a-copy\n",
            "  dfaugfinaldata['govurl'] = dfaugfinaldata['winning_notice_url'].apply(lambda x: 1 if 'gov.cn' in x else 0)\n"
          ]
        }
      ],
      "source": [
        "dfaugfinaldata['govurl'] = dfaugfinaldata['winning_notice_url'].apply(lambda x: 1 if 'gov.cn' in x else 0)"
      ]
    },
    {
      "cell_type": "code",
      "execution_count": 130,
      "metadata": {
        "id": "hyIdTEsi4G_M"
      },
      "outputs": [],
      "source": [
        "dffinal = dfaugfinaldata[~dfaugfinaldata['supplier_name'].isnull()]"
      ]
    },
    {
      "cell_type": "code",
      "execution_count": 131,
      "metadata": {
        "id": "CzkI3NN54G_M",
        "outputId": "492846c8-8b09-4f7b-920c-46caa06874d6",
        "colab": {
          "base_uri": "https://localhost:8080/"
        }
      },
      "outputs": [
        {
          "output_type": "execute_result",
          "data": {
            "text/plain": [
              "Index(['project_id', 'project_name', 'province', 'county', 'district',\n",
              "       'winning_date', 'winning_notice_url', 'buyer_name', 'buyer_contact',\n",
              "       'buyer_phone', 'winning_amt', 'supplier_name', 'supplier_contact',\n",
              "       'supplier_phone', 'govurl'],\n",
              "      dtype='object')"
            ]
          },
          "metadata": {},
          "execution_count": 131
        }
      ],
      "source": [
        "dffinal.columns"
      ]
    },
    {
      "cell_type": "markdown",
      "metadata": {
        "id": "bREXEZRy4G_M"
      },
      "source": [
        "# 添加学校类型"
      ]
    },
    {
      "cell_type": "code",
      "execution_count": 132,
      "metadata": {
        "id": "kGKECkKN4G_M"
      },
      "outputs": [],
      "source": [
        "uni_list = pd.read_csv(\"university_all_cleaned.csv\")\n",
        "voc_list = pd.read_csv('vocational_inscope - Sheet1.csv')\n",
        "inscope_schools = uni_list['school_name'].tolist() + voc_list['school_name'].tolist()\n",
        "insscope_schools_df = pd.concat([voc_list[['school_name', 'school_level']], \n",
        "                                 uni_list[['school_name', 'school_level', 'sec_lvl']]   \n",
        "                                ], \n",
        "                                axis = 0)"
      ]
    },
    {
      "cell_type": "code",
      "execution_count": 133,
      "metadata": {
        "id": "ITMqDwtm4G_M"
      },
      "outputs": [],
      "source": [
        "dffinal = dffinal.merge(insscope_schools_df, how = 'left', left_on = 'buyer_name', right_on = 'school_name')\n",
        "dffinal['school_level'] = dffinal['school_level'].fillna('other')\n",
        "dffinal['sec_lvl'] = dffinal['sec_lvl'].fillna(0)\n",
        "dffinal['sec_lvl'] = dffinal['sec_lvl'].astype(int)"
      ]
    },
    {
      "cell_type": "markdown",
      "metadata": {
        "id": "4zVhhqIe4G_N"
      },
      "source": [
        "# 添加采购的行政区域"
      ]
    },
    {
      "cell_type": "code",
      "execution_count": 134,
      "metadata": {
        "id": "AV3EoBe-4G_N"
      },
      "outputs": [],
      "source": [
        "supplierandbuyer1 = pd.read_csv('supplierbuyerinfo.csv')\n",
        "supplierandbuyer2 = pd.read_csv('subpplierbuyerinfo2.csv')\n",
        "supplierandbuyer3 = pd.read_csv('supplierbuyerinfo3.csv')\n",
        "supplierandbuyer4 = pd.read_csv(\"supplierbuyerinfo4.csv\")\n",
        "supplierandbuyer = pd.concat([supplierandbuyer1,supplierandbuyer2,supplierandbuyer3,supplierandbuyer4])"
      ]
    },
    {
      "cell_type": "code",
      "execution_count": 135,
      "metadata": {
        "id": "KzFoXbJa4G_N"
      },
      "outputs": [],
      "source": [
        "sbcols = ['企业名称', '所属省份', '所属城市', '所属区县','法定代表人',\n",
        "'电话', '企业地址']\n",
        "dfsbinfo = supplierandbuyer[sbcols].rename(columns={'企业名称':'name', '登记状态':'status','所属省份':'province', '所属城市':'county', '所属区县':'district',\n",
        "'法定代表人':'contact','电话':'phone', '企业地址':'addr'})"
      ]
    },
    {
      "cell_type": "code",
      "execution_count": 136,
      "metadata": {
        "id": "sj1bacZx4G_N"
      },
      "outputs": [],
      "source": [
        "dffinal = dffinal.merge(dfsbinfo,left_on='buyer_name',right_on='name',how = 'left',suffixes=['','_b'])\\\n",
        "        .merge(dfsbinfo,left_on='supplier_name',right_on = 'name',how = 'left',suffixes=['','_s'])"
      ]
    },
    {
      "cell_type": "code",
      "execution_count": 137,
      "metadata": {
        "id": "E0eK0mfm4G_N",
        "outputId": "0e9ee501-31ff-4c73-af56-da509d460db8",
        "colab": {
          "base_uri": "https://localhost:8080/"
        }
      },
      "outputs": [
        {
          "output_type": "execute_result",
          "data": {
            "text/plain": [
              "Index(['project_id', 'project_name', 'province', 'county', 'district',\n",
              "       'winning_date', 'winning_notice_url', 'buyer_name', 'buyer_contact',\n",
              "       'buyer_phone', 'winning_amt', 'supplier_name', 'supplier_contact',\n",
              "       'supplier_phone', 'govurl', 'school_name', 'school_level', 'sec_lvl',\n",
              "       'name', 'province_b', 'county_b', 'district_b', 'contact', 'phone',\n",
              "       'addr', 'name_s', 'province_s', 'county_s', 'district_s', 'contact_s',\n",
              "       'phone_s', 'addr_s'],\n",
              "      dtype='object')"
            ]
          },
          "metadata": {},
          "execution_count": 137
        }
      ],
      "source": [
        "dffinal.columns"
      ]
    },
    {
      "cell_type": "code",
      "execution_count": 138,
      "metadata": {
        "id": "GZ3K_Lvz4G_N"
      },
      "outputs": [],
      "source": [
        "dffinal['buyer_addr'] = dffinal['addr']\n",
        "dffinal['buyer_contact'] = dffinal['buyer_contact'].fillna(dffinal['contact'])\n",
        "dffinal['buyer_phone'] = dffinal['buyer_phone'].fillna(dffinal['phone'])\n",
        "dffinal['supplier_addr'] = dffinal['addr_s']\n",
        "dffinal['supplier_phone'] = dffinal['phone_s']\n",
        "dffinal['supplier_contact'] = dffinal['contact_s']"
      ]
    },
    {
      "cell_type": "code",
      "execution_count": 139,
      "metadata": {
        "id": "-blvJTIP4G_O"
      },
      "outputs": [],
      "source": [
        "dffinal['candidates'] = dffinal['supplier_name']"
      ]
    },
    {
      "cell_type": "code",
      "execution_count": 140,
      "metadata": {
        "id": "tkQZygkW4G_O"
      },
      "outputs": [],
      "source": [
        "finalcols = ['project_id', 'order_name', 'winning_date', 'winning_amt', 'buyer_name',\n",
        "       'supplier_name','supplier_addr','supplier_contact','supplier_phone','winning_notice_url', 'buyer_addr', 'buyer_contact',\n",
        "       'buyer_phone', 'province', 'county', 'district', 'province_s',\n",
        "       'county_s', 'district_s','candidates','school_level','sec_lvl']"
      ]
    },
    {
      "cell_type": "code",
      "execution_count": 141,
      "metadata": {
        "id": "nHAvLSsh4G_O"
      },
      "outputs": [],
      "source": [
        "schoolaug = dffinal.rename(columns = {'project_name':'order_name'})[finalcols]"
      ]
    },
    {
      "cell_type": "code",
      "execution_count": 142,
      "metadata": {
        "id": "o4sfM76c4G_O"
      },
      "outputs": [],
      "source": [
        "schoolaug.to_csv(\"schoolaugdata.csv\",index=False)"
      ]
    }
  ],
  "metadata": {
    "kernelspec": {
      "display_name": "base",
      "language": "python",
      "name": "python3"
    },
    "language_info": {
      "codemirror_mode": {
        "name": "ipython",
        "version": 3
      },
      "file_extension": ".py",
      "mimetype": "text/x-python",
      "name": "python",
      "nbconvert_exporter": "python",
      "pygments_lexer": "ipython3",
      "version": "3.8.3"
    },
    "orig_nbformat": 4,
    "vscode": {
      "interpreter": {
        "hash": "9f9fcede474d2cd96f5fa38c7facbe9714df2db7ab30e9b8aa814678ab97b06b"
      }
    },
    "colab": {
      "provenance": [],
      "include_colab_link": true
    }
  },
  "nbformat": 4,
  "nbformat_minor": 0
}